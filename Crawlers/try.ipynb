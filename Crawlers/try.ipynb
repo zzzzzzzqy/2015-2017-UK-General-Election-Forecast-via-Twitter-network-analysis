{
 "cells": [
  {
   "cell_type": "code",
   "execution_count": 1,
   "metadata": {
    "collapsed": true
   },
   "outputs": [],
   "source": [
    "# Here are the libraries I am using\n",
    "import pandas as pd \n",
    "import matplotlib.pyplot as plt\n",
    "import matplotlib as mpl\n",
    "import numpy as np\n",
    "from os import path\n",
    "import json\n",
    "import csv\n",
    "import twitter"
   ]
  },
  {
   "cell_type": "code",
   "execution_count": 2,
   "metadata": {
    "collapsed": true
   },
   "outputs": [],
   "source": [
    "# Set the Twitter consumer_key and access_token_key to allow clawer get data from Twitter API\n",
    "api = twitter.Api(consumer_key='ubZLkC1RAdgyR0J3vGIXoUnZ3',\n",
    "                  consumer_secret='kTRvnfB8dL9tPkSmLEw6KiNCEOD30V5tNxARJ37InJ0XhNMPNH',\n",
    "                  access_token_key='1603153040-qNCh5ngX7QKxldhluoVkridGw9c1YbsQMoll9Lg',\n",
    "                  access_token_secret='IEDDvqHFOKWJKb8QTQHEFn0xuCrxmjUfVG7rxwl52Uz6z',\n",
    "                 sleep_on_rate_limit=True)"
   ]
  },
  {
   "cell_type": "code",
   "execution_count": 16,
   "metadata": {
    "collapsed": true
   },
   "outputs": [],
   "source": [
    "# Crawl the data information by user_id\n",
    "def get_last_create_time(statuses):\n",
    "    if len(statuses) <= 1:\n",
    "        return '0', '0'\n",
    "    else:\n",
    "        return statuses[-1].id, statuses[-1].created_at[-4:]\n",
    "\n",
    "def usercrawler(userid = 72531619):\n",
    "    print('id: {} start..'.format(userid))\n",
    "    count = 0\n",
    "    statuses = api.GetUserTimeline(user_id= userid, screen_name=None, since_id=None, max_id=None, count=200, include_rts=True, trim_user=False, exclude_replies=False)\n",
    "    count += len(statuses)\n",
    "    last_id, created_time = get_last_create_time(statuses)\n",
    "    print('id: {}, count: {}, last_id: {}'.format(userid, count, last_id))\n",
    "    if len(statuses) <= 1:\n",
    "        print('id: {} done with {} status'.format(userid, count))\n",
    "        return \n",
    "    else:\n",
    "        with open(\"crawler.json\",\"a\") as f:\n",
    "            for t in statuses:\n",
    "                if t.created_at[-4:] >= '2014':\n",
    "                    json.dump(t._json,f)\n",
    "                    f.write('\\n')\n",
    "  \n",
    "    while created_time >='2014' and len(statuses) > 0:\n",
    "        statuses = api.GetUserTimeline(user_id=userid, \n",
    "                                       screen_name=None, \n",
    "                                       since_id=None, \n",
    "                                       max_id= last_id, \n",
    "                                       count=200, include_rts=True, \n",
    "                                       trim_user=False, exclude_replies=False)\n",
    "        count += len(statuses)\n",
    "        last_id, created_time = get_last_create_time(statuses)\n",
    "        print('id: {}, count: {}, last_id: {}'.format(userid, count, last_id))\n",
    "        if len(statuses) <= 1:\n",
    "            break\n",
    "        with open(\"crawler.json\",\"a\") as f:\n",
    "            for t in statuses:\n",
    "                if t.created_at[-4:] < '2014':\n",
    "                    break         \n",
    "                else:\n",
    "                    json.dump(t._json, f)\n",
    "                    f.write('\\n')\n",
    "    print('id: {} done with {} status'.format(userid, count))\n",
    "    "
   ]
  },
  {
   "cell_type": "code",
   "execution_count": null,
   "metadata": {
    "collapsed": true
   },
   "outputs": [],
   "source": [
    "#delet repeat data\n",
    "s = []\n",
    "[ s.append(k) for k in open('crawler.json') if k not in s ]\n",
    "open('set_crawler.json', 'w').write(''.join(s))"
   ]
  },
  {
   "cell_type": "code",
   "execution_count": null,
   "metadata": {
    "collapsed": true
   },
   "outputs": [],
   "source": [
    "dataset = []\n",
    "with open('set_crawler.txt', 'r') as file:\n",
    "    count = 0\n",
    "    for line in file:\n",
    "        count += 1\n",
    "        dataset.append(json.loads(line))\n",
    "        print(count)\n",
    "print(len(dataset))"
   ]
  },
  {
   "cell_type": "code",
   "execution_count": null,
   "metadata": {
    "collapsed": true,
    "scrolled": true
   },
   "outputs": [],
   "source": [
    "dataset[0]"
   ]
  },
  {
   "cell_type": "code",
   "execution_count": null,
   "metadata": {
    "collapsed": true
   },
   "outputs": [],
   "source": [
    "# write the data in to a tidy csv format\n",
    "csv_out = open('tweets_out_ASCII.csv', mode='w', newline='') #opens csv file\n",
    "writer = csv.writer(csv_out) #create the csv writer object\n",
    " \n",
    "fields = ['created_at', 'text', 'screen_name', 'followers', 'friends', 'rt', 'fav','mentioned', 'quoted', 'reweet'] #field names\n",
    "writer.writerow(fields) #writes field\n",
    "\n",
    "for line in dataset:\n",
    "    \n",
    "    #writes a row and gets the fields from the json object\n",
    "    #screen_name and followers/friends are found on the second level hence two get methods\n",
    "    writer.writerow([line.get('created_at'),\n",
    "                     line.get('text').encode('unicode_escape'), #unicode escape to fix emoji issue\n",
    "                     line.get('user').get('screen_name'),\n",
    "                     line.get('user').get('followers_count'),\n",
    "                     line.get('user').get('friends_count'),\n",
    "                     line.get('retweet_count'),\n",
    "                     line.get('favorite_count'),\n",
    "                     line.get('entities').get('user_mentions')[0].get('name') if line.get('entities').get('user_mentions') != [] else None,\n",
    "                     line.get('quoted_status').get('user').get('name', 'None') if line.get('quoted_status') != None else None,\n",
    "                \n",
    "                     line.get('retweeted_status').get('user').get('name', 'None') if line.get('retweeted_status') != None else None\n",
    "                    ])\n",
    " \n",
    "csv_out.close()\n"
   ]
  },
  {
   "cell_type": "code",
   "execution_count": null,
   "metadata": {
    "collapsed": true
   },
   "outputs": [],
   "source": [
    "df = pd.read_csv('tweets_out_ASCII.csv')"
   ]
  },
  {
   "cell_type": "code",
   "execution_count": null,
   "metadata": {
    "collapsed": true
   },
   "outputs": [],
   "source": [
    "df.head(100)"
   ]
  },
  {
   "cell_type": "code",
   "execution_count": null,
   "metadata": {
    "collapsed": true
   },
   "outputs": [],
   "source": [
    "api.GetUser(screen_name = 'wetransmute')"
   ]
  },
  {
   "cell_type": "code",
   "execution_count": null,
   "metadata": {
    "collapsed": true
   },
   "outputs": [],
   "source": [
    "api.GetLists(user_id=2429258599, screen_name='wetransmute')"
   ]
  },
  {
   "cell_type": "code",
   "execution_count": null,
   "metadata": {
    "collapsed": true
   },
   "outputs": [],
   "source": [
    "LIST_MP_15 = api.GetListMembers(list_id=196583411, slug=None, owner_id=2429258599, \n",
    "                                owner_screen_name='wetransmute', skip_status=False, \n",
    "                                include_entities=False)"
   ]
  },
  {
   "cell_type": "code",
   "execution_count": null,
   "metadata": {
    "collapsed": true
   },
   "outputs": [],
   "source": [
    "type(LIST_MP_15)"
   ]
  },
  {
   "cell_type": "code",
   "execution_count": null,
   "metadata": {
    "collapsed": true
   },
   "outputs": [],
   "source": [
    "LIST_MP_15"
   ]
  },
  {
   "cell_type": "code",
   "execution_count": null,
   "metadata": {
    "collapsed": true
   },
   "outputs": [],
   "source": [
    "LIST_MP_15_ids = [u.id for u in LIST_MP_15]"
   ]
  },
  {
   "cell_type": "code",
   "execution_count": null,
   "metadata": {
    "collapsed": true
   },
   "outputs": [],
   "source": [
    "LIST_MP_15_ids"
   ]
  },
  {
   "cell_type": "code",
   "execution_count": null,
   "metadata": {
    "collapsed": true
   },
   "outputs": [],
   "source": [
    "def get_last_create_time(statuses):\n",
    "    if len(statuses) <= 1:\n",
    "        return '0', '0'\n",
    "    else:\n",
    "        return statuses[-1].id, statuses[-1].created_at[-4:]\n",
    "\n",
    "def usercrawler_15(userid = 72531619):\n",
    "    print('id: {} start..'.format(userid))\n",
    "    count = 0\n",
    "    try:\n",
    "        statuses = api.GetUserTimeline(user_id= userid, screen_name=None, since_id=None, max_id=596195680802230272, count=200, include_rts=True, trim_user=False, exclude_replies=False)\n",
    "    except:\n",
    "        print(str(userid) + ' with error')\n",
    "        return\n",
    "    count += len(statuses)\n",
    "    last_id, created_time = get_last_create_time(statuses)\n",
    "    print('id: {}, count: {}, last_id: {}'.format(userid, count, last_id))\n",
    "    if len(statuses) <= 1:\n",
    "        print('id: {} done with {} status'.format(userid, count))\n",
    "        return \n",
    "    else:\n",
    "        with open(\"crawler.json\",\"a\") as f:\n",
    "            for t in statuses:\n",
    "                if t.created_at[-4:] >= '2013':\n",
    "                    json.dump(t._json,f)\n",
    "                    f.write('\\n')\n",
    "  \n",
    "    while created_time >='2013' and len(statuses) > 0:\n",
    "        statuses = api.GetUserTimeline(user_id=userid, \n",
    "                                       screen_name=None, \n",
    "                                       since_id=None, \n",
    "                                       max_id= last_id, \n",
    "                                       count=200, include_rts=True, \n",
    "                                       trim_user=False, exclude_replies=False)\n",
    "        count += len(statuses)\n",
    "        last_id, created_time = get_last_create_time(statuses)\n",
    "        print('id: {}, count: {}, last_id: {}'.format(userid, count, last_id))\n",
    "        if len(statuses) <= 1:\n",
    "            break\n",
    "        with open(\"crawler.json\",\"a\") as f:\n",
    "            for t in statuses:\n",
    "                if t.created_at[-4:] < '2013':\n",
    "                    break         \n",
    "                else:\n",
    "                    json.dump(t._json, f)\n",
    "                    f.write('\\n')\n",
    "    print('id: {} done with {} status'.format(userid, count))"
   ]
  },
  {
   "cell_type": "code",
   "execution_count": null,
   "metadata": {
    "collapsed": true
   },
   "outputs": [],
   "source": [
    "api.GetUser(screen_name = 'DianaWallis2015')"
   ]
  },
  {
   "cell_type": "code",
   "execution_count": null,
   "metadata": {
    "collapsed": true
   },
   "outputs": [],
   "source": [
    "usercrawler_15(userid = 3043532009)"
   ]
  },
  {
   "cell_type": "code",
   "execution_count": null,
   "metadata": {
    "collapsed": true,
    "scrolled": true
   },
   "outputs": [],
   "source": [
    "for ids in LIST_MP_15_ids:\n",
    "    usercrawler_15(userid = ids)"
   ]
  },
  {
   "cell_type": "code",
   "execution_count": null,
   "metadata": {
    "collapsed": true,
    "scrolled": true
   },
   "outputs": [],
   "source": [
    "len(LIST_MP_15_ids)"
   ]
  },
  {
   "cell_type": "code",
   "execution_count": null,
   "metadata": {
    "collapsed": true
   },
   "outputs": [],
   "source": [
    "api.GetUser(user_id=752820350371717120, screen_name=None, include_entities=True)"
   ]
  },
  {
   "cell_type": "markdown",
   "metadata": {},
   "source": [
    "## SELECTED PARTIES: Conservatives, Labour and Liberal Democrats"
   ]
  },
  {
   "cell_type": "code",
   "execution_count": 3,
   "metadata": {
    "collapsed": true
   },
   "outputs": [],
   "source": [
    "df_2015_SP = pd.read_csv('2015_SP_candidates.csv')"
   ]
  },
  {
   "cell_type": "code",
   "execution_count": 4,
   "metadata": {},
   "outputs": [
    {
     "data": {
      "text/html": [
       "<div>\n",
       "<table border=\"1\" class=\"dataframe\">\n",
       "  <thead>\n",
       "    <tr style=\"text-align: right;\">\n",
       "      <th></th>\n",
       "      <th>Unnamed: 0</th>\n",
       "      <th>name</th>\n",
       "      <th>gender</th>\n",
       "      <th>birth_date</th>\n",
       "      <th>party_name</th>\n",
       "      <th>post_label</th>\n",
       "      <th>elected</th>\n",
       "      <th>twitter_username</th>\n",
       "      <th>twitter_user_id</th>\n",
       "    </tr>\n",
       "  </thead>\n",
       "  <tbody>\n",
       "    <tr>\n",
       "      <th>0</th>\n",
       "      <td>2</td>\n",
       "      <td>Helen Ceri Clarke</td>\n",
       "      <td>female</td>\n",
       "      <td>NaN</td>\n",
       "      <td>Liberal Democrats</td>\n",
       "      <td>Aberavon</td>\n",
       "      <td>False</td>\n",
       "      <td>Helenceri</td>\n",
       "      <td>18979772</td>\n",
       "    </tr>\n",
       "    <tr>\n",
       "      <th>1</th>\n",
       "      <td>3</td>\n",
       "      <td>Edward Yi He</td>\n",
       "      <td>male</td>\n",
       "      <td>NaN</td>\n",
       "      <td>Conservative and Unionist Party</td>\n",
       "      <td>Aberavon</td>\n",
       "      <td>False</td>\n",
       "      <td>Edward4East</td>\n",
       "      <td>2935084827</td>\n",
       "    </tr>\n",
       "    <tr>\n",
       "      <th>2</th>\n",
       "      <td>7</td>\n",
       "      <td>Stephen Kinnock</td>\n",
       "      <td>male</td>\n",
       "      <td>1970-01-01</td>\n",
       "      <td>Labour Party</td>\n",
       "      <td>Aberavon</td>\n",
       "      <td>True</td>\n",
       "      <td>SKinnock</td>\n",
       "      <td>722347303</td>\n",
       "    </tr>\n",
       "    <tr>\n",
       "      <th>3</th>\n",
       "      <td>9</td>\n",
       "      <td>Victor Babu</td>\n",
       "      <td>male</td>\n",
       "      <td>NaN</td>\n",
       "      <td>Liberal Democrats</td>\n",
       "      <td>Aberconwy</td>\n",
       "      <td>False</td>\n",
       "      <td>Bathula_Victor</td>\n",
       "      <td>2347509589</td>\n",
       "    </tr>\n",
       "    <tr>\n",
       "      <th>4</th>\n",
       "      <td>10</td>\n",
       "      <td>Guto Bebb</td>\n",
       "      <td>male</td>\n",
       "      <td>1968-10-09</td>\n",
       "      <td>Conservative and Unionist Party</td>\n",
       "      <td>Aberconwy</td>\n",
       "      <td>True</td>\n",
       "      <td>GutoAberconwy</td>\n",
       "      <td>752820350371717120</td>\n",
       "    </tr>\n",
       "    <tr>\n",
       "      <th>5</th>\n",
       "      <td>14</td>\n",
       "      <td>Mary Wimbury</td>\n",
       "      <td>female</td>\n",
       "      <td>NaN</td>\n",
       "      <td>Labour Party</td>\n",
       "      <td>Aberconwy</td>\n",
       "      <td>False</td>\n",
       "      <td>MaryWimbury</td>\n",
       "      <td>77320497</td>\n",
       "    </tr>\n",
       "    <tr>\n",
       "      <th>6</th>\n",
       "      <td>17</td>\n",
       "      <td>Euan Davidson</td>\n",
       "      <td>male</td>\n",
       "      <td>1994-07-07</td>\n",
       "      <td>Liberal Democrats</td>\n",
       "      <td>Aberdeen North</td>\n",
       "      <td>False</td>\n",
       "      <td>euandavidson</td>\n",
       "      <td>138167286</td>\n",
       "    </tr>\n",
       "    <tr>\n",
       "      <th>7</th>\n",
       "      <td>21</td>\n",
       "      <td>Anne Begg</td>\n",
       "      <td>female</td>\n",
       "      <td>1955-12-06</td>\n",
       "      <td>Labour Party</td>\n",
       "      <td>Aberdeen South</td>\n",
       "      <td>False</td>\n",
       "      <td>annebegg</td>\n",
       "      <td>105880024</td>\n",
       "    </tr>\n",
       "    <tr>\n",
       "      <th>8</th>\n",
       "      <td>24</td>\n",
       "      <td>Denis Rixson</td>\n",
       "      <td>male</td>\n",
       "      <td>NaN</td>\n",
       "      <td>Liberal Democrats</td>\n",
       "      <td>Aberdeen South</td>\n",
       "      <td>False</td>\n",
       "      <td>RDJRixson</td>\n",
       "      <td>3068561164</td>\n",
       "    </tr>\n",
       "    <tr>\n",
       "      <th>9</th>\n",
       "      <td>26</td>\n",
       "      <td>Ross Thomson</td>\n",
       "      <td>male</td>\n",
       "      <td>1987-09-21</td>\n",
       "      <td>Conservative and Unionist Party</td>\n",
       "      <td>Aberdeen South</td>\n",
       "      <td>False</td>\n",
       "      <td>RossThomson_MP</td>\n",
       "      <td>539849453</td>\n",
       "    </tr>\n",
       "  </tbody>\n",
       "</table>\n",
       "</div>"
      ],
      "text/plain": [
       "   Unnamed: 0               name  gender  birth_date  \\\n",
       "0           2  Helen Ceri Clarke  female         NaN   \n",
       "1           3       Edward Yi He    male         NaN   \n",
       "2           7    Stephen Kinnock    male  1970-01-01   \n",
       "3           9        Victor Babu    male         NaN   \n",
       "4          10          Guto Bebb    male  1968-10-09   \n",
       "5          14       Mary Wimbury  female         NaN   \n",
       "6          17      Euan Davidson    male  1994-07-07   \n",
       "7          21          Anne Begg  female  1955-12-06   \n",
       "8          24       Denis Rixson    male         NaN   \n",
       "9          26       Ross Thomson    male  1987-09-21   \n",
       "\n",
       "                        party_name      post_label elected twitter_username  \\\n",
       "0                Liberal Democrats        Aberavon   False        Helenceri   \n",
       "1  Conservative and Unionist Party        Aberavon   False      Edward4East   \n",
       "2                     Labour Party        Aberavon    True         SKinnock   \n",
       "3                Liberal Democrats       Aberconwy   False   Bathula_Victor   \n",
       "4  Conservative and Unionist Party       Aberconwy    True    GutoAberconwy   \n",
       "5                     Labour Party       Aberconwy   False      MaryWimbury   \n",
       "6                Liberal Democrats  Aberdeen North   False     euandavidson   \n",
       "7                     Labour Party  Aberdeen South   False         annebegg   \n",
       "8                Liberal Democrats  Aberdeen South   False        RDJRixson   \n",
       "9  Conservative and Unionist Party  Aberdeen South   False   RossThomson_MP   \n",
       "\n",
       "      twitter_user_id  \n",
       "0            18979772  \n",
       "1          2935084827  \n",
       "2           722347303  \n",
       "3          2347509589  \n",
       "4  752820350371717120  \n",
       "5            77320497  \n",
       "6           138167286  \n",
       "7           105880024  \n",
       "8          3068561164  \n",
       "9           539849453  "
      ]
     },
     "execution_count": 4,
     "metadata": {},
     "output_type": "execute_result"
    }
   ],
   "source": [
    "df_2015_SP.head(10)"
   ]
  },
  {
   "cell_type": "code",
   "execution_count": 5,
   "metadata": {
    "collapsed": true
   },
   "outputs": [],
   "source": [
    "list_id_2015_SP = df_2015_SP.twitter_user_id.tolist()"
   ]
  },
  {
   "cell_type": "code",
   "execution_count": 6,
   "metadata": {},
   "outputs": [
    {
     "data": {
      "text/plain": [
       "1444"
      ]
     },
     "execution_count": 6,
     "metadata": {},
     "output_type": "execute_result"
    }
   ],
   "source": [
    "len(list_id_2015_SP)"
   ]
  },
  {
   "cell_type": "code",
   "execution_count": 23,
   "metadata": {},
   "outputs": [
    {
     "ename": "NameError",
     "evalue": "name 'usercrawler_15' is not defined",
     "output_type": "error",
     "traceback": [
      "\u001b[0;31m---------------------------------------------------------------------------\u001b[0m",
      "\u001b[0;31mNameError\u001b[0m                                 Traceback (most recent call last)",
      "\u001b[0;32m<ipython-input-23-43811229b005>\u001b[0m in \u001b[0;36m<module>\u001b[0;34m()\u001b[0m\n\u001b[1;32m      1\u001b[0m \u001b[0;32mfor\u001b[0m \u001b[0mids\u001b[0m \u001b[0;32min\u001b[0m \u001b[0mlist_id_2015_SP\u001b[0m\u001b[0;34m:\u001b[0m\u001b[0;34m\u001b[0m\u001b[0m\n\u001b[0;32m----> 2\u001b[0;31m     \u001b[0musercrawler_15\u001b[0m\u001b[0;34m(\u001b[0m\u001b[0muserid\u001b[0m \u001b[0;34m=\u001b[0m \u001b[0mids\u001b[0m\u001b[0;34m)\u001b[0m\u001b[0;34m\u001b[0m\u001b[0m\n\u001b[0m",
      "\u001b[0;31mNameError\u001b[0m: name 'usercrawler_15' is not defined"
     ]
    }
   ],
   "source": [
    "for ids in list_id_2015_SP:\n",
    "    usercrawler_15(userid = ids)"
   ]
  },
  {
   "cell_type": "code",
   "execution_count": null,
   "metadata": {
    "collapsed": true
   },
   "outputs": [],
   "source": [
    "list_id_2015_SP[-1]"
   ]
  },
  {
   "cell_type": "code",
   "execution_count": null,
   "metadata": {
    "collapsed": true
   },
   "outputs": [],
   "source": [
    "dataset_15sp = []\n",
    "with open('crawler_2015.txt', 'r') as file:\n",
    "    for line in file:\n",
    "        dataset_15sp.append(json.loads(line))"
   ]
  },
  {
   "cell_type": "code",
   "execution_count": null,
   "metadata": {
    "collapsed": true
   },
   "outputs": [],
   "source": [
    "csv_out = open('tweets_2015sp.csv', mode='w', newline='') #opens csv file\n",
    "writer = csv.writer(csv_out) #create the csv writer object\n",
    " \n",
    "fields = ['created_at', 'text', 'screen_name', 'followers', 'friends', 'rt', 'fav','mentioned', 'quoted', 'reweet'] #field names\n",
    "writer.writerow(fields) #writes field\n",
    "\n",
    "for line in dataset_15sp:\n",
    "    \n",
    "    #writes a row and gets the fields from the json object\n",
    "    #screen_name and followers/friends are found on the second level hence two get methods\n",
    "    writer.writerow([line.get('created_at'),\n",
    "                     line.get('text').encode('unicode_escape'), #unicode escape to fix emoji issue\n",
    "                     line.get('user').get('screen_name'),\n",
    "                     line.get('user').get('followers_count'),\n",
    "                     line.get('user').get('friends_count'),\n",
    "                     line.get('retweet_count'),\n",
    "                     line.get('favorite_count'),\n",
    "                     line.get('entities').get('user_mentions')[0].get('name') if line.get('entities').get('user_mentions') != [] else None,\n",
    "                     line.get('quoted_status').get('user').get('name', 'None') if line.get('quoted_status') != None else None,\n",
    "                \n",
    "                     line.get('retweeted_status').get('user').get('name', 'None') if line.get('retweeted_status') != None else None\n",
    "                    ])\n",
    "csv_out.close()\n"
   ]
  },
  {
   "cell_type": "markdown",
   "metadata": {},
   "source": [
    "## Second Degree of MP Followers"
   ]
  },
  {
   "cell_type": "code",
   "execution_count": 40,
   "metadata": {
    "collapsed": true
   },
   "outputs": [],
   "source": [
    "def Get_degree(screenname = '442069868'):\n",
    "    friend_list = [u.id for u in api.GetFollowers(screen_name = screenname)]\n",
    "    print(friend_list)\n",
    "    friend_degree = []\n",
    "    for ids in friend_list:\n",
    "        temp_friend_list = [u.id for u in api.GetFollowers(user_id=ids)]\n",
    "        k =  len(temp_friend_list)\n",
    "        print(k)\n",
    "        friend_degree.append(k)\n",
    "    avg_k = sum(friend_degree)/len(friend_list)\n",
    "    max_k = max(friend_degree)\n",
    "    print(screenname, avg_k, max_k)"
   ]
  },
  {
   "cell_type": "code",
   "execution_count": 15,
   "metadata": {
    "collapsed": true
   },
   "outputs": [],
   "source": [
    "def Get_degree(userid = 1603153040):\n",
    "    record = []\n",
    "    try:\n",
    "        friend_list = api.GetFollowers(user_id = userid)\n",
    "    except:\n",
    "        deadlist.append(userid)\n",
    "        print(str(userid) + ' with error')\n",
    "        return \n",
    "   \n",
    "    print('{} get {} friends'.format(userid, len(friend_list)))\n",
    "    friend_degree = []\n",
    "    follower_degree = []\n",
    "    for users in friend_list:\n",
    "\n",
    "        followers =  users._json.get('followers_count')\n",
    "        friends =  users._json.get('friends_count')\n",
    "        friend_degree.append(friends)\n",
    "        follower_degree.append(followers)\n",
    "    avg_fr = sum(friend_degree)/len(friend_list)\n",
    "    max_fr = max(friend_degree)\n",
    "    min_fr = min(friend_degree)\n",
    "    avg_fo = sum(follower_degree)/len(friend_list)\n",
    "    max_fo = max(follower_degree)\n",
    "    min_fo = min(follower_degree)\n",
    "    var_fr = np.var(friend_degree)\n",
    "    var_fo = np.var(follower_degree)\n",
    "    record = [userid, avg_fr, max_fr, min_fr, var_fr, avg_fo, max_fo, min_fo, var_fo]\n",
    "    print('{} get {} friends done'.format(userid, len(friend_list)))\n",
    "    with open('neighbor_information.csv', 'a') as myfile:\n",
    "        myfile.write('{}\\n'.format(','.join(map(str,record))))\n",
    "    return record"
   ]
  },
  {
   "cell_type": "code",
   "execution_count": 12,
   "metadata": {
    "collapsed": true
   },
   "outputs": [],
   "source": [
    "# list_id_2015_SP  0-49 500-972\n",
    "count = 889\n",
    "# dataset_15sp = []"
   ]
  },
  {
   "cell_type": "code",
   "execution_count": 13,
   "metadata": {
    "collapsed": true
   },
   "outputs": [],
   "source": [
    "new_list_id = list_id_2015_SP"
   ]
  },
  {
   "cell_type": "code",
   "execution_count": null,
   "metadata": {
    "scrolled": true
   },
   "outputs": [
    {
     "name": "stdout",
     "output_type": "stream",
     "text": [
      "250306638 889\n",
      "250306638 get 1642 friends\n",
      "250306638 get 1642 friends done\n",
      "19915728 890\n",
      "19915728 get 4157 friends\n",
      "19915728 get 4157 friends done\n",
      "3034405491 891\n",
      "3034405491 get 325 friends\n",
      "3034405491 get 325 friends done\n",
      "449139643 892\n",
      "449139643 get 1187 friends\n",
      "449139643 get 1187 friends done\n",
      "496906695 893\n",
      "496906695 get 710 friends\n",
      "496906695 get 710 friends done\n",
      "394841647 894\n",
      "394841647 get 664 friends\n",
      "394841647 get 664 friends done\n",
      "19973305 895\n",
      "19973305 get 37004 friends\n",
      "19973305 get 37004 friends done\n",
      "525532966 896\n",
      "525532966 with error\n",
      "1342705754 897\n",
      "1342705754 get 462 friends\n",
      "1342705754 get 462 friends done\n",
      "2660755152 898\n",
      "2660755152 get 8317 friends\n",
      "2660755152 get 8317 friends done\n",
      "392155662 899\n",
      "392155662 get 687 friends\n",
      "392155662 get 687 friends done\n",
      "532241033 900\n",
      "532241033 get 41418 friends\n",
      "532241033 get 41418 friends done\n",
      "483224449 901\n",
      "483224449 get 655 friends\n",
      "483224449 get 655 friends done\n",
      "260738126 902\n",
      "260738126 get 1329 friends\n",
      "260738126 get 1329 friends done\n",
      "250311545 903\n",
      "250311545 get 13903 friends\n",
      "250311545 get 13903 friends done\n",
      "1527302432 904\n",
      "1527302432 get 433 friends\n",
      "1527302432 get 433 friends done\n",
      "391973986 905\n",
      "391973986 get 409 friends\n",
      "391973986 get 409 friends done\n",
      "855421480481456128 906\n",
      "855421480481456128 get 428 friends\n",
      "855421480481456128 get 428 friends done\n",
      "360890130 907\n",
      "360890130 get 451 friends\n",
      "360890130 get 451 friends done\n",
      "23210863 908\n",
      "23210863 get 116 friends\n",
      "23210863 get 116 friends done\n",
      "1520163139 909\n",
      "1520163139 get 796 friends\n",
      "1520163139 get 796 friends done\n",
      "140020746 910\n",
      "140020746 get 3612 friends\n",
      "140020746 get 3612 friends done\n",
      "20585205 911\n",
      "20585205 get 1848 friends\n",
      "20585205 get 1848 friends done\n",
      "550086106 912\n",
      "550086106 get 408 friends\n",
      "550086106 get 408 friends done\n",
      "118429508 913\n",
      "118429508 get 16204 friends\n",
      "118429508 get 16204 friends done\n",
      "2723743580 914\n",
      "2723743580 get 135 friends\n",
      "2723743580 get 135 friends done\n",
      "376905231 915\n",
      "376905231 get 385 friends\n",
      "376905231 get 385 friends done\n",
      "35598574 916\n",
      "35598574 get 473 friends\n",
      "35598574 get 473 friends done\n",
      "19407599 917\n",
      "19407599 get 4781 friends\n",
      "19407599 get 4781 friends done\n",
      "114689761 918\n",
      "114689761 get 106 friends\n",
      "114689761 get 106 friends done\n",
      "3072775744 919\n",
      "3072775744 get 495 friends\n",
      "3072775744 get 495 friends done\n",
      "309587728 920\n",
      "309587728 get 12124 friends\n",
      "309587728 get 12124 friends done\n",
      "67575441 921\n",
      "67575441 get 794 friends\n",
      "67575441 get 794 friends done\n",
      "407091045 922\n",
      "407091045 get 1733 friends\n",
      "407091045 get 1733 friends done\n",
      "86192099 923\n",
      "86192099 get 10446 friends\n",
      "86192099 get 10446 friends done\n",
      "1704469674 924\n",
      "1704469674 get 362 friends\n",
      "1704469674 get 362 friends done\n",
      "19858924 925\n",
      "19858924 get 6363 friends\n",
      "19858924 get 6363 friends done\n",
      "130857126 926\n",
      "130857126 get 1670 friends\n",
      "130857126 get 1670 friends done\n",
      "528528903 927\n",
      "528528903 get 29 friends\n",
      "528528903 get 29 friends done\n",
      "103085575 928\n",
      "103085575 get 3950 friends\n",
      "103085575 get 3950 friends done\n",
      "20228559 929\n",
      "20228559 get 5985 friends\n",
      "20228559 get 5985 friends done\n",
      "15673183 930\n",
      "15673183 get 11490 friends\n",
      "15673183 get 11490 friends done\n",
      "386776248 931\n",
      "386776248 get 13880 friends\n",
      "386776248 get 13880 friends done\n",
      "2819552283 932\n",
      "2819552283 get 677 friends\n",
      "2819552283 get 677 friends done\n",
      "36924726 933\n",
      "36924726 get 57470 friends\n",
      "36924726 get 57470 friends done\n",
      "142994950 934\n",
      "142994950 get 800 friends\n",
      "142994950 get 800 friends done\n",
      "215206530 935\n",
      "215206530 get 4331 friends\n",
      "215206530 get 4331 friends done\n",
      "2176717478 936\n",
      "2176717478 get 254 friends\n",
      "2176717478 get 254 friends done\n",
      "494828691 937\n",
      "494828691 get 9159 friends\n",
      "494828691 get 9159 friends done\n",
      "21402367 938\n",
      "21402367 with error\n",
      "128590458 939\n",
      "128590458 get 77 friends\n",
      "128590458 get 77 friends done\n",
      "20148039 940\n",
      "20148039 get 19391 friends\n",
      "20148039 get 19391 friends done\n",
      "36154400 941\n",
      "36154400 get 1077 friends\n",
      "36154400 get 1077 friends done\n",
      "50267356 942\n",
      "50267356 get 38 friends\n",
      "50267356 get 38 friends done\n",
      "80697605 943\n",
      "80697605 get 1080 friends\n",
      "80697605 get 1080 friends done\n",
      "382612033 944\n",
      "382612033 get 100 friends\n",
      "382612033 get 100 friends done\n",
      "1469686752 945\n",
      "1469686752 get 5335 friends\n",
      "1469686752 get 5335 friends done\n",
      "3072168695 946\n",
      "3072168695 get 1969 friends\n",
      "3072168695 get 1969 friends done\n",
      "551787654 947\n",
      "551787654 with error\n",
      "27718919 948\n",
      "27718919 get 8 friends\n",
      "27718919 get 8 friends done\n",
      "92498317 949\n",
      "92498317 get 16366 friends\n",
      "92498317 get 16366 friends done\n",
      "136260691 950\n",
      "136260691 with error\n",
      "225857392 951\n",
      "225857392 get 29351 friends\n",
      "225857392 get 29351 friends done\n",
      "2863905923 952\n",
      "2863905923 get 819 friends\n",
      "2863905923 get 819 friends done\n",
      "20124345 953\n",
      "20124345 get 663 friends\n",
      "20124345 get 663 friends done\n",
      "430299812 954\n",
      "430299812 get 867 friends\n",
      "430299812 get 867 friends done\n",
      "116855481 955\n",
      "116855481 get 2133 friends\n",
      "116855481 get 2133 friends done\n",
      "91786287 956\n",
      "91786287 get 12276 friends\n",
      "91786287 get 12276 friends done\n",
      "3084691864 957\n",
      "3084691864 get 186 friends\n",
      "3084691864 get 186 friends done\n",
      "3039502624 958\n",
      "3039502624 get 734 friends\n",
      "3039502624 get 734 friends done\n",
      "478891321 959\n",
      "478891321 get 91 friends\n",
      "478891321 get 91 friends done\n",
      "237700394 960\n",
      "237700394 get 20027 friends\n",
      "237700394 get 20027 friends done\n",
      "865128397 961\n",
      "865128397 get 1029 friends\n",
      "865128397 get 1029 friends done\n",
      "112814041 962\n",
      "112814041 get 292 friends\n",
      "112814041 get 292 friends done\n",
      "3034417965 963\n",
      "3034417965 get 25 friends\n",
      "3034417965 get 25 friends done\n",
      "60585651 964\n",
      "60585651 get 14376 friends\n",
      "60585651 get 14376 friends done\n",
      "76948062 965\n",
      "76948062 get 960 friends\n",
      "76948062 get 960 friends done\n",
      "23424533 966\n",
      "23424533 get 10211 friends\n",
      "23424533 get 10211 friends done\n",
      "3094724475 967\n",
      "3094724475 get 167 friends\n",
      "3094724475 get 167 friends done\n",
      "2982284249 968\n",
      "2982284249 get 28 friends\n",
      "2982284249 get 28 friends done\n",
      "508707905 969\n",
      "508707905 get 851 friends\n",
      "508707905 get 851 friends done\n",
      "2342164885 970\n",
      "2342164885 get 1758 friends\n",
      "2342164885 get 1758 friends done\n",
      "1693194818 971\n",
      "1693194818 get 63 friends\n",
      "1693194818 get 63 friends done\n",
      "131517399 972\n",
      "131517399 with error\n",
      "245745762 973\n"
     ]
    }
   ],
   "source": [
    "for _id in new_list_id[count:-1]:\n",
    "    print(_id, count)\n",
    "    Get_degree(userid = _id)\n",
    "    count = count +1\n",
    "#         wr.writerow(Get_degree(userid = id))"
   ]
  },
  {
   "cell_type": "code",
   "execution_count": null,
   "metadata": {
    "collapsed": true
   },
   "outputs": [],
   "source": [
    "import pygame\n",
    "pygame.mixer.init()\n",
    "print(\"克啥 跑完了\")\n",
    "track = pygame.mixer.music.load(\"03 Lucky.mp3\")\n",
    "pygame.mixer.music.play()"
   ]
  },
  {
   "cell_type": "code",
   "execution_count": 117,
   "metadata": {},
   "outputs": [
    {
     "data": {
      "text/plain": [
       "236953412"
      ]
     },
     "execution_count": 117,
     "metadata": {},
     "output_type": "execute_result"
    }
   ],
   "source": [
    "new_list_id[49]"
   ]
  },
  {
   "cell_type": "code",
   "execution_count": null,
   "metadata": {
    "collapsed": true
   },
   "outputs": [],
   "source": [
    "Get_degree(userid = 236953412)"
   ]
  },
  {
   "cell_type": "code",
   "execution_count": 24,
   "metadata": {
    "collapsed": true
   },
   "outputs": [],
   "source": [
    " with open('neighbor_information', 'w') as myfile:\n",
    "        wr = csv.writer(myfile, quoting=csv.QUOTE_ALL)\n",
    "        wr.writerow(lalala)"
   ]
  },
  {
   "cell_type": "code",
   "execution_count": 23,
   "metadata": {
    "collapsed": true
   },
   "outputs": [],
   "source": [
    "lalala = [1,2,3,4,5]"
   ]
  },
  {
   "cell_type": "code",
   "execution_count": 14,
   "metadata": {
    "collapsed": true
   },
   "outputs": [],
   "source": [
    "deadlist = []"
   ]
  },
  {
   "cell_type": "code",
   "execution_count": 11,
   "metadata": {},
   "outputs": [
    {
     "data": {
      "text/plain": [
       "606306570"
      ]
     },
     "execution_count": 11,
     "metadata": {},
     "output_type": "execute_result"
    }
   ],
   "source": [
    "new_list_id[758]"
   ]
  },
  {
   "cell_type": "code",
   "execution_count": 11,
   "metadata": {},
   "outputs": [
    {
     "data": {
      "text/plain": [
       "250306638"
      ]
     },
     "execution_count": 11,
     "metadata": {},
     "output_type": "execute_result"
    }
   ],
   "source": [
    "new_list_id[889]"
   ]
  },
  {
   "cell_type": "code",
   "execution_count": null,
   "metadata": {
    "collapsed": true
   },
   "outputs": [],
   "source": []
  },
  {
   "cell_type": "code",
   "execution_count": null,
   "metadata": {
    "collapsed": true
   },
   "outputs": [],
   "source": []
  }
 ],
 "metadata": {
  "kernelspec": {
   "display_name": "Python 3",
   "language": "python",
   "name": "python3"
  },
  "language_info": {
   "codemirror_mode": {
    "name": "ipython",
    "version": 3
   },
   "file_extension": ".py",
   "mimetype": "text/x-python",
   "name": "python",
   "nbconvert_exporter": "python",
   "pygments_lexer": "ipython3",
   "version": "3.6.0"
  }
 },
 "nbformat": 4,
 "nbformat_minor": 2
}
