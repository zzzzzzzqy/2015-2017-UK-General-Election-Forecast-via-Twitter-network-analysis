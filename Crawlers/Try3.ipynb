{
 "cells": [
  {
   "cell_type": "code",
   "execution_count": 1,
   "metadata": {
    "collapsed": true
   },
   "outputs": [],
   "source": [
    "# Here are the libraries I am using\n",
    "import pandas as pd \n",
    "import matplotlib.pyplot as plt\n",
    "import matplotlib as mpl\n",
    "import numpy as np\n",
    "from os import path\n",
    "import json\n",
    "import csv\n",
    "import twitter"
   ]
  },
  {
   "cell_type": "code",
   "execution_count": 2,
   "metadata": {
    "collapsed": true
   },
   "outputs": [],
   "source": [
    "api = twitter.Api(consumer_key='VMEtmluCX5kbgdpxVGCQpKsU3',\n",
    "                  consumer_secret='EE7IAgm84rzEaMYmxzDVFRqc0VG5TPCQ91PaExgn9tkv8WdrJ7',\n",
    "                  access_token_key='894677768465731586-w4kRfckM6aRHvdEPwX7ycYCCXc9a2Y1',\n",
    "                  access_token_secret='aup3PMyri8zRV66XKBcThxO08HSA3PSZfWvdKseC5JEPq',\n",
    "                 sleep_on_rate_limit=True)"
   ]
  },
  {
   "cell_type": "code",
   "execution_count": 3,
   "metadata": {
    "collapsed": true
   },
   "outputs": [],
   "source": [
    "df_2015_SP = pd.read_csv('2015_SP_candidates.csv')"
   ]
  },
  {
   "cell_type": "code",
   "execution_count": 4,
   "metadata": {},
   "outputs": [
    {
     "data": {
      "text/html": [
       "<div>\n",
       "<table border=\"1\" class=\"dataframe\">\n",
       "  <thead>\n",
       "    <tr style=\"text-align: right;\">\n",
       "      <th></th>\n",
       "      <th>Unnamed: 0</th>\n",
       "      <th>name</th>\n",
       "      <th>gender</th>\n",
       "      <th>birth_date</th>\n",
       "      <th>party_name</th>\n",
       "      <th>post_label</th>\n",
       "      <th>elected</th>\n",
       "      <th>twitter_username</th>\n",
       "      <th>twitter_user_id</th>\n",
       "    </tr>\n",
       "  </thead>\n",
       "  <tbody>\n",
       "    <tr>\n",
       "      <th>0</th>\n",
       "      <td>2</td>\n",
       "      <td>Helen Ceri Clarke</td>\n",
       "      <td>female</td>\n",
       "      <td>NaN</td>\n",
       "      <td>Liberal Democrats</td>\n",
       "      <td>Aberavon</td>\n",
       "      <td>False</td>\n",
       "      <td>Helenceri</td>\n",
       "      <td>18979772</td>\n",
       "    </tr>\n",
       "    <tr>\n",
       "      <th>1</th>\n",
       "      <td>3</td>\n",
       "      <td>Edward Yi He</td>\n",
       "      <td>male</td>\n",
       "      <td>NaN</td>\n",
       "      <td>Conservative and Unionist Party</td>\n",
       "      <td>Aberavon</td>\n",
       "      <td>False</td>\n",
       "      <td>Edward4East</td>\n",
       "      <td>2935084827</td>\n",
       "    </tr>\n",
       "    <tr>\n",
       "      <th>2</th>\n",
       "      <td>7</td>\n",
       "      <td>Stephen Kinnock</td>\n",
       "      <td>male</td>\n",
       "      <td>1970-01-01</td>\n",
       "      <td>Labour Party</td>\n",
       "      <td>Aberavon</td>\n",
       "      <td>True</td>\n",
       "      <td>SKinnock</td>\n",
       "      <td>722347303</td>\n",
       "    </tr>\n",
       "    <tr>\n",
       "      <th>3</th>\n",
       "      <td>9</td>\n",
       "      <td>Victor Babu</td>\n",
       "      <td>male</td>\n",
       "      <td>NaN</td>\n",
       "      <td>Liberal Democrats</td>\n",
       "      <td>Aberconwy</td>\n",
       "      <td>False</td>\n",
       "      <td>Bathula_Victor</td>\n",
       "      <td>2347509589</td>\n",
       "    </tr>\n",
       "    <tr>\n",
       "      <th>4</th>\n",
       "      <td>10</td>\n",
       "      <td>Guto Bebb</td>\n",
       "      <td>male</td>\n",
       "      <td>1968-10-09</td>\n",
       "      <td>Conservative and Unionist Party</td>\n",
       "      <td>Aberconwy</td>\n",
       "      <td>True</td>\n",
       "      <td>GutoAberconwy</td>\n",
       "      <td>752820350371717120</td>\n",
       "    </tr>\n",
       "    <tr>\n",
       "      <th>5</th>\n",
       "      <td>14</td>\n",
       "      <td>Mary Wimbury</td>\n",
       "      <td>female</td>\n",
       "      <td>NaN</td>\n",
       "      <td>Labour Party</td>\n",
       "      <td>Aberconwy</td>\n",
       "      <td>False</td>\n",
       "      <td>MaryWimbury</td>\n",
       "      <td>77320497</td>\n",
       "    </tr>\n",
       "    <tr>\n",
       "      <th>6</th>\n",
       "      <td>17</td>\n",
       "      <td>Euan Davidson</td>\n",
       "      <td>male</td>\n",
       "      <td>1994-07-07</td>\n",
       "      <td>Liberal Democrats</td>\n",
       "      <td>Aberdeen North</td>\n",
       "      <td>False</td>\n",
       "      <td>euandavidson</td>\n",
       "      <td>138167286</td>\n",
       "    </tr>\n",
       "    <tr>\n",
       "      <th>7</th>\n",
       "      <td>21</td>\n",
       "      <td>Anne Begg</td>\n",
       "      <td>female</td>\n",
       "      <td>1955-12-06</td>\n",
       "      <td>Labour Party</td>\n",
       "      <td>Aberdeen South</td>\n",
       "      <td>False</td>\n",
       "      <td>annebegg</td>\n",
       "      <td>105880024</td>\n",
       "    </tr>\n",
       "    <tr>\n",
       "      <th>8</th>\n",
       "      <td>24</td>\n",
       "      <td>Denis Rixson</td>\n",
       "      <td>male</td>\n",
       "      <td>NaN</td>\n",
       "      <td>Liberal Democrats</td>\n",
       "      <td>Aberdeen South</td>\n",
       "      <td>False</td>\n",
       "      <td>RDJRixson</td>\n",
       "      <td>3068561164</td>\n",
       "    </tr>\n",
       "    <tr>\n",
       "      <th>9</th>\n",
       "      <td>26</td>\n",
       "      <td>Ross Thomson</td>\n",
       "      <td>male</td>\n",
       "      <td>1987-09-21</td>\n",
       "      <td>Conservative and Unionist Party</td>\n",
       "      <td>Aberdeen South</td>\n",
       "      <td>False</td>\n",
       "      <td>RossThomson_MP</td>\n",
       "      <td>539849453</td>\n",
       "    </tr>\n",
       "  </tbody>\n",
       "</table>\n",
       "</div>"
      ],
      "text/plain": [
       "   Unnamed: 0               name  gender  birth_date  \\\n",
       "0           2  Helen Ceri Clarke  female         NaN   \n",
       "1           3       Edward Yi He    male         NaN   \n",
       "2           7    Stephen Kinnock    male  1970-01-01   \n",
       "3           9        Victor Babu    male         NaN   \n",
       "4          10          Guto Bebb    male  1968-10-09   \n",
       "5          14       Mary Wimbury  female         NaN   \n",
       "6          17      Euan Davidson    male  1994-07-07   \n",
       "7          21          Anne Begg  female  1955-12-06   \n",
       "8          24       Denis Rixson    male         NaN   \n",
       "9          26       Ross Thomson    male  1987-09-21   \n",
       "\n",
       "                        party_name      post_label elected twitter_username  \\\n",
       "0                Liberal Democrats        Aberavon   False        Helenceri   \n",
       "1  Conservative and Unionist Party        Aberavon   False      Edward4East   \n",
       "2                     Labour Party        Aberavon    True         SKinnock   \n",
       "3                Liberal Democrats       Aberconwy   False   Bathula_Victor   \n",
       "4  Conservative and Unionist Party       Aberconwy    True    GutoAberconwy   \n",
       "5                     Labour Party       Aberconwy   False      MaryWimbury   \n",
       "6                Liberal Democrats  Aberdeen North   False     euandavidson   \n",
       "7                     Labour Party  Aberdeen South   False         annebegg   \n",
       "8                Liberal Democrats  Aberdeen South   False        RDJRixson   \n",
       "9  Conservative and Unionist Party  Aberdeen South   False   RossThomson_MP   \n",
       "\n",
       "      twitter_user_id  \n",
       "0            18979772  \n",
       "1          2935084827  \n",
       "2           722347303  \n",
       "3          2347509589  \n",
       "4  752820350371717120  \n",
       "5            77320497  \n",
       "6           138167286  \n",
       "7           105880024  \n",
       "8          3068561164  \n",
       "9           539849453  "
      ]
     },
     "execution_count": 4,
     "metadata": {},
     "output_type": "execute_result"
    }
   ],
   "source": [
    "df_2015_SP.head(10)"
   ]
  },
  {
   "cell_type": "code",
   "execution_count": 5,
   "metadata": {
    "collapsed": true
   },
   "outputs": [],
   "source": [
    "list_id_2015_SP = df_2015_SP.twitter_user_id.tolist()"
   ]
  },
  {
   "cell_type": "code",
   "execution_count": 6,
   "metadata": {
    "collapsed": true
   },
   "outputs": [],
   "source": [
    "new_list_id = list_id_2015_SP"
   ]
  },
  {
   "cell_type": "code",
   "execution_count": 7,
   "metadata": {},
   "outputs": [
    {
     "data": {
      "text/plain": [
       "1444"
      ]
     },
     "execution_count": 7,
     "metadata": {},
     "output_type": "execute_result"
    }
   ],
   "source": [
    "len(new_list_id)"
   ]
  },
  {
   "cell_type": "code",
   "execution_count": 12,
   "metadata": {
    "collapsed": true
   },
   "outputs": [],
   "source": [
    "# list_id_2015_SP\n",
    "count = 1292\n",
    "# dataset_15sp = []"
   ]
  },
  {
   "cell_type": "code",
   "execution_count": 13,
   "metadata": {
    "scrolled": true
   },
   "outputs": [
    {
     "name": "stdout",
     "output_type": "stream",
     "text": [
      "2524547796 1292\n",
      "2524547796 get 708 friends\n",
      "2524547796 get 708 friends done\n",
      "22378075 1293\n",
      "22378075 get 3669 friends\n",
      "22378075 get 3669 friends done\n",
      "608932775 1294\n",
      "608932775 get 3443 friends\n",
      "608932775 get 3443 friends done\n",
      "1681525201 1295\n",
      "1681525201 get 58 friends\n",
      "1681525201 get 58 friends done\n",
      "76650839 1296\n",
      "76650839 get 10124 friends\n",
      "76650839 get 10124 friends done\n",
      "169898513 1297\n",
      "169898513 get 4856 friends\n",
      "169898513 get 4856 friends done\n",
      "19811175 1298\n",
      "19811175 get 311 friends\n",
      "19811175 get 311 friends done\n",
      "541898068 1299\n",
      "541898068 with error\n"
     ]
    }
   ],
   "source": [
    "for _id in new_list_id[count:1300]:\n",
    "    print(_id, count)\n",
    "    Get_degree(userid = _id)\n",
    "    \n",
    "#     with open('neighbor_information49.csv', 'a') as myfile:\n",
    "#         myfile.write('{}\\n'.format(','.join(map(str,Get_degree(userid = _id)))))\n",
    "    count = count +1\n",
    "#         wr.writerow(Get_degree(userid = id))"
   ]
  },
  {
   "cell_type": "code",
   "execution_count": null,
   "metadata": {
    "collapsed": true
   },
   "outputs": [],
   "source": [
    "new_list_id[49]"
   ]
  },
  {
   "cell_type": "code",
   "execution_count": 8,
   "metadata": {
    "collapsed": true
   },
   "outputs": [],
   "source": [
    "def Get_degree(userid = 1603153040):\n",
    "    record = []\n",
    "    try:\n",
    "        friend_list = api.GetFollowers(user_id = userid)\n",
    "    except:\n",
    "        deadlist.append(userid)\n",
    "        print(str(userid) + ' with error')\n",
    "        return \n",
    "   \n",
    "    print('{} get {} friends'.format(userid, len(friend_list)))\n",
    "    friend_degree = []\n",
    "    follower_degree = []\n",
    "    for users in friend_list:\n",
    "\n",
    "        followers =  users._json.get('followers_count')\n",
    "        friends =  users._json.get('friends_count')\n",
    "        friend_degree.append(friends)\n",
    "        follower_degree.append(followers)\n",
    "    avg_fr = sum(friend_degree)/len(friend_list)\n",
    "    max_fr = max(friend_degree)\n",
    "    min_fr = min(friend_degree)\n",
    "    avg_fo = sum(follower_degree)/len(friend_list)\n",
    "    max_fo = max(follower_degree)\n",
    "    min_fo = min(follower_degree)\n",
    "    var_fr = np.var(friend_degree)\n",
    "    var_fo = np.var(follower_degree)\n",
    "    record = [userid, avg_fr, max_fr, min_fr, var_fr, avg_fo, max_fo, min_fo, var_fo]\n",
    "    print('{} get {} friends done'.format(userid, len(friend_list)))\n",
    "    with open('neighbor_information1000.csv', 'a') as myfile:\n",
    "        myfile.write('{}\\n'.format(','.join(map(str,record))))\n",
    "    return record"
   ]
  },
  {
   "cell_type": "code",
   "execution_count": 34,
   "metadata": {},
   "outputs": [
    {
     "name": "stdout",
     "output_type": "stream",
     "text": [
      "71084757 with error\n"
     ]
    },
    {
     "data": {
      "text/plain": [
       "[]"
      ]
     },
     "execution_count": 34,
     "metadata": {},
     "output_type": "execute_result"
    }
   ],
   "source": [
    "Get_degree(71084757)"
   ]
  },
  {
   "cell_type": "code",
   "execution_count": 9,
   "metadata": {
    "collapsed": true
   },
   "outputs": [],
   "source": [
    "deadlist = []"
   ]
  },
  {
   "cell_type": "code",
   "execution_count": 20,
   "metadata": {
    "collapsed": true
   },
   "outputs": [],
   "source": [
    "deadlist.append(new_list_id[49])"
   ]
  },
  {
   "cell_type": "code",
   "execution_count": null,
   "metadata": {
    "collapsed": true
   },
   "outputs": [],
   "source": [
    "deadlist"
   ]
  },
  {
   "cell_type": "code",
   "execution_count": 1,
   "metadata": {},
   "outputs": [
    {
     "ename": "NameError",
     "evalue": "name 'count' is not defined",
     "output_type": "error",
     "traceback": [
      "\u001b[0;31m---------------------------------------------------------------------------\u001b[0m",
      "\u001b[0;31mNameError\u001b[0m                                 Traceback (most recent call last)",
      "\u001b[0;32m<ipython-input-1-0295fd033b59>\u001b[0m in \u001b[0;36m<module>\u001b[0;34m()\u001b[0m\n\u001b[0;32m----> 1\u001b[0;31m \u001b[0mcount\u001b[0m\u001b[0;34m\u001b[0m\u001b[0m\n\u001b[0m",
      "\u001b[0;31mNameError\u001b[0m: name 'count' is not defined"
     ]
    }
   ],
   "source": [
    "count"
   ]
  },
  {
   "cell_type": "code",
   "execution_count": 13,
   "metadata": {},
   "outputs": [
    {
     "data": {
      "text/plain": [
       "14284260"
      ]
     },
     "execution_count": 13,
     "metadata": {},
     "output_type": "execute_result"
    }
   ],
   "source": [
    "new_list_id[1145]"
   ]
  },
  {
   "cell_type": "code",
   "execution_count": null,
   "metadata": {
    "collapsed": true
   },
   "outputs": [],
   "source": []
  }
 ],
 "metadata": {
  "kernelspec": {
   "display_name": "Python 3",
   "language": "python",
   "name": "python3"
  },
  "language_info": {
   "codemirror_mode": {
    "name": "ipython",
    "version": 3
   },
   "file_extension": ".py",
   "mimetype": "text/x-python",
   "name": "python",
   "nbconvert_exporter": "python",
   "pygments_lexer": "ipython3",
   "version": "3.6.0"
  }
 },
 "nbformat": 4,
 "nbformat_minor": 2
}
