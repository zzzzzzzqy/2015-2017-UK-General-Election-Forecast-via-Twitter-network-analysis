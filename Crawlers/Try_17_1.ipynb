{
 "cells": [
  {
   "cell_type": "code",
   "execution_count": 1,
   "metadata": {
    "collapsed": true
   },
   "outputs": [],
   "source": [
    "# Here are the libraries I am using\n",
    "import pandas as pd \n",
    "import matplotlib.pyplot as plt\n",
    "import matplotlib as mpl\n",
    "import numpy as np\n",
    "from os import path\n",
    "import json\n",
    "import csv\n",
    "import twitter"
   ]
  },
  {
   "cell_type": "code",
   "execution_count": 2,
   "metadata": {
    "collapsed": true
   },
   "outputs": [],
   "source": [
    "api = twitter.Api(consumer_key='ubZLkC1RAdgyR0J3vGIXoUnZ3',\n",
    "                  consumer_secret='kTRvnfB8dL9tPkSmLEw6KiNCEOD30V5tNxARJ37InJ0XhNMPNH',\n",
    "                  access_token_key='1603153040-qNCh5ngX7QKxldhluoVkridGw9c1YbsQMoll9Lg',\n",
    "                  access_token_secret='IEDDvqHFOKWJKb8QTQHEFn0xuCrxmjUfVG7rxwl52Uz6z',\n",
    "                 sleep_on_rate_limit=True)"
   ]
  },
  {
   "cell_type": "code",
   "execution_count": 3,
   "metadata": {
    "collapsed": true
   },
   "outputs": [],
   "source": [
    "df_2015_SP = pd.read_csv('2017_SP_candidates.csv')"
   ]
  },
  {
   "cell_type": "code",
   "execution_count": 4,
   "metadata": {},
   "outputs": [
    {
     "data": {
      "text/html": [
       "<div>\n",
       "<table border=\"1\" class=\"dataframe\">\n",
       "  <thead>\n",
       "    <tr style=\"text-align: right;\">\n",
       "      <th></th>\n",
       "      <th>Unnamed: 0</th>\n",
       "      <th>name</th>\n",
       "      <th>gender</th>\n",
       "      <th>birth_date</th>\n",
       "      <th>party_name</th>\n",
       "      <th>post_label</th>\n",
       "      <th>elected</th>\n",
       "      <th>twitter_username</th>\n",
       "      <th>twitter_user_id</th>\n",
       "    </tr>\n",
       "  </thead>\n",
       "  <tbody>\n",
       "    <tr>\n",
       "      <th>0</th>\n",
       "      <td>2</td>\n",
       "      <td>Stephen Kinnock</td>\n",
       "      <td>male</td>\n",
       "      <td>1970-01-01</td>\n",
       "      <td>Labour Party</td>\n",
       "      <td>Aberavon</td>\n",
       "      <td>True</td>\n",
       "      <td>SKinnock</td>\n",
       "      <td>722347303</td>\n",
       "    </tr>\n",
       "    <tr>\n",
       "      <th>1</th>\n",
       "      <td>3</td>\n",
       "      <td>Cen Phillips</td>\n",
       "      <td>male</td>\n",
       "      <td>1971</td>\n",
       "      <td>Liberal Democrats</td>\n",
       "      <td>Aberavon</td>\n",
       "      <td>False</td>\n",
       "      <td>CenLD</td>\n",
       "      <td>1872769464</td>\n",
       "    </tr>\n",
       "    <tr>\n",
       "      <th>2</th>\n",
       "      <td>4</td>\n",
       "      <td>Sadie Vidal</td>\n",
       "      <td>female</td>\n",
       "      <td>NaN</td>\n",
       "      <td>Conservative and Unionist Party</td>\n",
       "      <td>Aberavon</td>\n",
       "      <td>False</td>\n",
       "      <td>sadievidal</td>\n",
       "      <td>19447175</td>\n",
       "    </tr>\n",
       "    <tr>\n",
       "      <th>3</th>\n",
       "      <td>5</td>\n",
       "      <td>Guto Bebb</td>\n",
       "      <td>male</td>\n",
       "      <td>1968-10-09</td>\n",
       "      <td>Conservative and Unionist Party</td>\n",
       "      <td>Aberconwy</td>\n",
       "      <td>True</td>\n",
       "      <td>GutoAberconwy</td>\n",
       "      <td>752820350371717120</td>\n",
       "    </tr>\n",
       "    <tr>\n",
       "      <th>4</th>\n",
       "      <td>8</td>\n",
       "      <td>Emily Owen</td>\n",
       "      <td>Female</td>\n",
       "      <td>1995</td>\n",
       "      <td>Labour Party</td>\n",
       "      <td>Aberconwy</td>\n",
       "      <td>False</td>\n",
       "      <td>Emily4Aberconwy</td>\n",
       "      <td>92363214</td>\n",
       "    </tr>\n",
       "    <tr>\n",
       "      <th>5</th>\n",
       "      <td>10</td>\n",
       "      <td>Isobel Davidson</td>\n",
       "      <td>female</td>\n",
       "      <td>NaN</td>\n",
       "      <td>Liberal Democrats</td>\n",
       "      <td>Aberdeen North</td>\n",
       "      <td>False</td>\n",
       "      <td>isobeldavidson</td>\n",
       "      <td>1553831654</td>\n",
       "    </tr>\n",
       "    <tr>\n",
       "      <th>6</th>\n",
       "      <td>12</td>\n",
       "      <td>Grace O'Keeffe</td>\n",
       "      <td>female</td>\n",
       "      <td>NaN</td>\n",
       "      <td>Conservative and Unionist Party</td>\n",
       "      <td>Aberdeen North</td>\n",
       "      <td>False</td>\n",
       "      <td>Grace_E_OKeeffe</td>\n",
       "      <td>858789131622723584</td>\n",
       "    </tr>\n",
       "    <tr>\n",
       "      <th>7</th>\n",
       "      <td>13</td>\n",
       "      <td>Orr Vinegold</td>\n",
       "      <td>male</td>\n",
       "      <td>1988</td>\n",
       "      <td>Labour Party</td>\n",
       "      <td>Aberdeen North</td>\n",
       "      <td>False</td>\n",
       "      <td>OrrVinegoldLab</td>\n",
       "      <td>857290145795641344</td>\n",
       "    </tr>\n",
       "    <tr>\n",
       "      <th>8</th>\n",
       "      <td>15</td>\n",
       "      <td>Callum O'Dwyer</td>\n",
       "      <td>Male</td>\n",
       "      <td>NaN</td>\n",
       "      <td>Labour Party</td>\n",
       "      <td>Aberdeen South</td>\n",
       "      <td>False</td>\n",
       "      <td>callumjodwyer</td>\n",
       "      <td>65415768</td>\n",
       "    </tr>\n",
       "    <tr>\n",
       "      <th>9</th>\n",
       "      <td>16</td>\n",
       "      <td>Ross Thomson</td>\n",
       "      <td>male</td>\n",
       "      <td>1987-09-21</td>\n",
       "      <td>Conservative and Unionist Party</td>\n",
       "      <td>Aberdeen South</td>\n",
       "      <td>True</td>\n",
       "      <td>RossThomson_MP</td>\n",
       "      <td>539849453</td>\n",
       "    </tr>\n",
       "  </tbody>\n",
       "</table>\n",
       "</div>"
      ],
      "text/plain": [
       "   Unnamed: 0             name  gender  birth_date  \\\n",
       "0           2  Stephen Kinnock    male  1970-01-01   \n",
       "1           3     Cen Phillips    male        1971   \n",
       "2           4      Sadie Vidal  female         NaN   \n",
       "3           5        Guto Bebb    male  1968-10-09   \n",
       "4           8       Emily Owen  Female        1995   \n",
       "5          10  Isobel Davidson  female         NaN   \n",
       "6          12   Grace O'Keeffe  female         NaN   \n",
       "7          13     Orr Vinegold    male        1988   \n",
       "8          15   Callum O'Dwyer    Male         NaN   \n",
       "9          16     Ross Thomson    male  1987-09-21   \n",
       "\n",
       "                        party_name      post_label elected twitter_username  \\\n",
       "0                     Labour Party        Aberavon    True         SKinnock   \n",
       "1                Liberal Democrats        Aberavon   False            CenLD   \n",
       "2  Conservative and Unionist Party        Aberavon   False       sadievidal   \n",
       "3  Conservative and Unionist Party       Aberconwy    True    GutoAberconwy   \n",
       "4                     Labour Party       Aberconwy   False  Emily4Aberconwy   \n",
       "5                Liberal Democrats  Aberdeen North   False   isobeldavidson   \n",
       "6  Conservative and Unionist Party  Aberdeen North   False  Grace_E_OKeeffe   \n",
       "7                     Labour Party  Aberdeen North   False   OrrVinegoldLab   \n",
       "8                     Labour Party  Aberdeen South   False    callumjodwyer   \n",
       "9  Conservative and Unionist Party  Aberdeen South    True   RossThomson_MP   \n",
       "\n",
       "      twitter_user_id  \n",
       "0           722347303  \n",
       "1          1872769464  \n",
       "2            19447175  \n",
       "3  752820350371717120  \n",
       "4            92363214  \n",
       "5          1553831654  \n",
       "6  858789131622723584  \n",
       "7  857290145795641344  \n",
       "8            65415768  \n",
       "9           539849453  "
      ]
     },
     "execution_count": 4,
     "metadata": {},
     "output_type": "execute_result"
    }
   ],
   "source": [
    "df_2015_SP.head(10)"
   ]
  },
  {
   "cell_type": "code",
   "execution_count": 5,
   "metadata": {
    "collapsed": true
   },
   "outputs": [],
   "source": [
    "list_id_2015_SP = df_2015_SP.twitter_user_id.tolist()"
   ]
  },
  {
   "cell_type": "code",
   "execution_count": 6,
   "metadata": {
    "collapsed": true
   },
   "outputs": [],
   "source": [
    "new_list_id = list_id_2015_SP"
   ]
  },
  {
   "cell_type": "code",
   "execution_count": 7,
   "metadata": {},
   "outputs": [
    {
     "data": {
      "text/plain": [
       "1455"
      ]
     },
     "execution_count": 7,
     "metadata": {},
     "output_type": "execute_result"
    }
   ],
   "source": [
    "len(new_list_id)"
   ]
  },
  {
   "cell_type": "code",
   "execution_count": 16,
   "metadata": {
    "collapsed": true
   },
   "outputs": [],
   "source": [
    "# list_id_2015_SP 1-500 900-1000\n",
    "count = 900\n",
    "# dataset_15sp = []"
   ]
  },
  {
   "cell_type": "code",
   "execution_count": null,
   "metadata": {
    "scrolled": true
   },
   "outputs": [
    {
     "name": "stdout",
     "output_type": "stream",
     "text": [
      "4773112227 900\n",
      "4773112227 get 60 friends\n",
      "4773112227 get 60 friends done\n",
      "858991494375641088 901\n",
      "858991494375641088 get 146 friends\n",
      "858991494375641088 get 146 friends done\n",
      "3143931867 902\n",
      "3143931867 get 76 friends\n",
      "3143931867 get 76 friends done\n",
      "24909051 903\n",
      "24909051 get 3365 friends\n",
      "24909051 get 3365 friends done\n",
      "330888766 904\n",
      "330888766 get 400 friends\n",
      "330888766 get 400 friends done\n",
      "28113581 905\n",
      "28113581 get 259 friends\n",
      "28113581 get 259 friends done\n",
      "857198584382582784 906\n",
      "857198584382582784 with error\n",
      "3034405491 907\n",
      "3034405491 get 326 friends\n",
      "3034405491 get 326 friends done\n",
      "496906695 908\n",
      "496906695 get 712 friends\n",
      "496906695 get 712 friends done\n",
      "22285702 909\n",
      "22285702 get 2795 friends\n",
      "22285702 get 2795 friends done\n",
      "19973305 910\n",
      "19973305 get 37088 friends\n",
      "19973305 get 37088 friends done\n",
      "860838374701240320 911\n",
      "860838374701240320 get 378 friends\n",
      "860838374701240320 get 378 friends done\n",
      "1342705754 912\n",
      "1342705754 get 460 friends\n",
      "1342705754 get 460 friends done\n",
      "2660755152 913\n",
      "2660755152 get 8362 friends\n",
      "2660755152 get 8362 friends done\n",
      "392155662 914\n",
      "392155662 get 686 friends\n",
      "392155662 get 686 friends done\n",
      "603684942 915\n",
      "603684942 get 749 friends\n",
      "603684942 get 749 friends done\n",
      "532241033 916\n"
     ]
    }
   ],
   "source": [
    "for _id in new_list_id[count:1000]:\n",
    "    print(_id, count)\n",
    "    Get_degree(userid = _id)\n",
    "    \n",
    "#     with open('neighbor_information49.csv', 'a') as myfile:\n",
    "#         myfile.write('{}\\n'.format(','.join(map(str,Get_degree(userid = _id)))))\n",
    "    count = count +1\n",
    "#         wr.writerow(Get_degree(userid = id))"
   ]
  },
  {
   "cell_type": "code",
   "execution_count": null,
   "metadata": {
    "collapsed": true
   },
   "outputs": [],
   "source": [
    "new_list_id[49]"
   ]
  },
  {
   "cell_type": "code",
   "execution_count": 9,
   "metadata": {
    "collapsed": true
   },
   "outputs": [],
   "source": [
    "def Get_degree(userid = 1603153040):\n",
    "    record = []\n",
    "    try:\n",
    "        friend_list = api.GetFollowers(user_id = userid)\n",
    "    except:\n",
    "        deadlist.append(userid)\n",
    "        print(str(userid) + ' with error')\n",
    "        return \n",
    "   \n",
    "    print('{} get {} friends'.format(userid, len(friend_list)))\n",
    "    friend_degree = []\n",
    "    follower_degree = []\n",
    "    for users in friend_list:\n",
    "\n",
    "        followers =  users._json.get('followers_count')\n",
    "        friends =  users._json.get('friends_count')\n",
    "        friend_degree.append(friends)\n",
    "        follower_degree.append(followers)\n",
    "    avg_fr = sum(friend_degree)/len(friend_list)\n",
    "    max_fr = max(friend_degree)\n",
    "    min_fr = min(friend_degree)\n",
    "    avg_fo = sum(follower_degree)/len(friend_list)\n",
    "    max_fo = max(follower_degree)\n",
    "    min_fo = min(follower_degree)\n",
    "    var_fr = np.var(friend_degree)\n",
    "    var_fo = np.var(follower_degree)\n",
    "    record = [userid, avg_fr, max_fr, min_fr, var_fr, avg_fo, max_fo, min_fo, var_fo]\n",
    "    print('{} get {} friends done'.format(userid, len(friend_list)))\n",
    "    with open('neighbor_information_17.csv', 'a') as myfile:\n",
    "        myfile.write('{}\\n'.format(','.join(map(str,record))))\n",
    "    return record"
   ]
  },
  {
   "cell_type": "code",
   "execution_count": 34,
   "metadata": {},
   "outputs": [
    {
     "name": "stdout",
     "output_type": "stream",
     "text": [
      "71084757 with error\n"
     ]
    },
    {
     "data": {
      "text/plain": [
       "[]"
      ]
     },
     "execution_count": 34,
     "metadata": {},
     "output_type": "execute_result"
    }
   ],
   "source": []
  },
  {
   "cell_type": "code",
   "execution_count": 10,
   "metadata": {
    "collapsed": true
   },
   "outputs": [],
   "source": [
    "deadlist = []"
   ]
  },
  {
   "cell_type": "code",
   "execution_count": 20,
   "metadata": {
    "collapsed": true
   },
   "outputs": [],
   "source": [
    "deadlist.append(new_list_id[49])"
   ]
  },
  {
   "cell_type": "code",
   "execution_count": 13,
   "metadata": {},
   "outputs": [
    {
     "ename": "NameError",
     "evalue": "name 'deadlist' is not defined",
     "output_type": "error",
     "traceback": [
      "\u001b[0;31m---------------------------------------------------------------------------\u001b[0m",
      "\u001b[0;31mNameError\u001b[0m                                 Traceback (most recent call last)",
      "\u001b[0;32m<ipython-input-13-b727dc17c9d1>\u001b[0m in \u001b[0;36m<module>\u001b[0;34m()\u001b[0m\n\u001b[0;32m----> 1\u001b[0;31m \u001b[0mdeadlist\u001b[0m\u001b[0;34m\u001b[0m\u001b[0m\n\u001b[0m",
      "\u001b[0;31mNameError\u001b[0m: name 'deadlist' is not defined"
     ]
    }
   ],
   "source": [
    "deadlist"
   ]
  },
  {
   "cell_type": "code",
   "execution_count": 1,
   "metadata": {},
   "outputs": [
    {
     "ename": "NameError",
     "evalue": "name 'count' is not defined",
     "output_type": "error",
     "traceback": [
      "\u001b[0;31m---------------------------------------------------------------------------\u001b[0m",
      "\u001b[0;31mNameError\u001b[0m                                 Traceback (most recent call last)",
      "\u001b[0;32m<ipython-input-1-0295fd033b59>\u001b[0m in \u001b[0;36m<module>\u001b[0;34m()\u001b[0m\n\u001b[0;32m----> 1\u001b[0;31m \u001b[0mcount\u001b[0m\u001b[0;34m\u001b[0m\u001b[0m\n\u001b[0m",
      "\u001b[0;31mNameError\u001b[0m: name 'count' is not defined"
     ]
    }
   ],
   "source": [
    "count"
   ]
  },
  {
   "cell_type": "code",
   "execution_count": 13,
   "metadata": {},
   "outputs": [
    {
     "data": {
      "text/plain": [
       "14284260"
      ]
     },
     "execution_count": 13,
     "metadata": {},
     "output_type": "execute_result"
    }
   ],
   "source": [
    "new_list_id[1145]"
   ]
  },
  {
   "cell_type": "code",
   "execution_count": null,
   "metadata": {
    "collapsed": true
   },
   "outputs": [],
   "source": []
  }
 ],
 "metadata": {
  "kernelspec": {
   "display_name": "Python 3",
   "language": "python",
   "name": "python3"
  },
  "language_info": {
   "codemirror_mode": {
    "name": "ipython",
    "version": 3
   },
   "file_extension": ".py",
   "mimetype": "text/x-python",
   "name": "python",
   "nbconvert_exporter": "python",
   "pygments_lexer": "ipython3",
   "version": "3.6.0"
  }
 },
 "nbformat": 4,
 "nbformat_minor": 2
}
