{
 "cells": [
  {
   "cell_type": "code",
   "execution_count": 1,
   "metadata": {
    "collapsed": true
   },
   "outputs": [],
   "source": [
    "# Here are the libraries I am using\n",
    "import pandas as pd \n",
    "import matplotlib.pyplot as plt\n",
    "import matplotlib as mpl\n",
    "import numpy as np\n",
    "from os import path\n",
    "import json\n",
    "import csv\n",
    "import twitter"
   ]
  },
  {
   "cell_type": "code",
   "execution_count": 2,
   "metadata": {
    "collapsed": true
   },
   "outputs": [],
   "source": [
    "api = twitter.Api(consumer_key='FDAGNIITr95Vu8Rnk4JAcxzCe',\n",
    "                  consumer_secret='uSZmoA593fn2u9skxDRBkC3JxkTSKFxGAYrxrAKV3SJJOnDatA',\n",
    "                  access_token_key='893915820069466112-J5fgZIA1VRKCaRgRGK3rPvLuDle4NH1',\n",
    "                  access_token_secret='mfzeYGqTOFNjxrLS7OLSmkQa2USYuFu9bdYN8e9SacgpN',\n",
    "                 sleep_on_rate_limit=True)"
   ]
  },
  {
   "cell_type": "code",
   "execution_count": 3,
   "metadata": {
    "collapsed": true
   },
   "outputs": [],
   "source": [
    "df_2015_SP = pd.read_csv('2017_SP_candidates.csv')"
   ]
  },
  {
   "cell_type": "code",
   "execution_count": 4,
   "metadata": {},
   "outputs": [
    {
     "data": {
      "text/html": [
       "<div>\n",
       "<table border=\"1\" class=\"dataframe\">\n",
       "  <thead>\n",
       "    <tr style=\"text-align: right;\">\n",
       "      <th></th>\n",
       "      <th>Unnamed: 0</th>\n",
       "      <th>name</th>\n",
       "      <th>gender</th>\n",
       "      <th>birth_date</th>\n",
       "      <th>party_name</th>\n",
       "      <th>post_label</th>\n",
       "      <th>elected</th>\n",
       "      <th>twitter_username</th>\n",
       "      <th>twitter_user_id</th>\n",
       "    </tr>\n",
       "  </thead>\n",
       "  <tbody>\n",
       "    <tr>\n",
       "      <th>0</th>\n",
       "      <td>2</td>\n",
       "      <td>Stephen Kinnock</td>\n",
       "      <td>male</td>\n",
       "      <td>1970-01-01</td>\n",
       "      <td>Labour Party</td>\n",
       "      <td>Aberavon</td>\n",
       "      <td>True</td>\n",
       "      <td>SKinnock</td>\n",
       "      <td>722347303</td>\n",
       "    </tr>\n",
       "    <tr>\n",
       "      <th>1</th>\n",
       "      <td>3</td>\n",
       "      <td>Cen Phillips</td>\n",
       "      <td>male</td>\n",
       "      <td>1971</td>\n",
       "      <td>Liberal Democrats</td>\n",
       "      <td>Aberavon</td>\n",
       "      <td>False</td>\n",
       "      <td>CenLD</td>\n",
       "      <td>1872769464</td>\n",
       "    </tr>\n",
       "    <tr>\n",
       "      <th>2</th>\n",
       "      <td>4</td>\n",
       "      <td>Sadie Vidal</td>\n",
       "      <td>female</td>\n",
       "      <td>NaN</td>\n",
       "      <td>Conservative and Unionist Party</td>\n",
       "      <td>Aberavon</td>\n",
       "      <td>False</td>\n",
       "      <td>sadievidal</td>\n",
       "      <td>19447175</td>\n",
       "    </tr>\n",
       "    <tr>\n",
       "      <th>3</th>\n",
       "      <td>5</td>\n",
       "      <td>Guto Bebb</td>\n",
       "      <td>male</td>\n",
       "      <td>1968-10-09</td>\n",
       "      <td>Conservative and Unionist Party</td>\n",
       "      <td>Aberconwy</td>\n",
       "      <td>True</td>\n",
       "      <td>GutoAberconwy</td>\n",
       "      <td>752820350371717120</td>\n",
       "    </tr>\n",
       "    <tr>\n",
       "      <th>4</th>\n",
       "      <td>8</td>\n",
       "      <td>Emily Owen</td>\n",
       "      <td>Female</td>\n",
       "      <td>1995</td>\n",
       "      <td>Labour Party</td>\n",
       "      <td>Aberconwy</td>\n",
       "      <td>False</td>\n",
       "      <td>Emily4Aberconwy</td>\n",
       "      <td>92363214</td>\n",
       "    </tr>\n",
       "    <tr>\n",
       "      <th>5</th>\n",
       "      <td>10</td>\n",
       "      <td>Isobel Davidson</td>\n",
       "      <td>female</td>\n",
       "      <td>NaN</td>\n",
       "      <td>Liberal Democrats</td>\n",
       "      <td>Aberdeen North</td>\n",
       "      <td>False</td>\n",
       "      <td>isobeldavidson</td>\n",
       "      <td>1553831654</td>\n",
       "    </tr>\n",
       "    <tr>\n",
       "      <th>6</th>\n",
       "      <td>12</td>\n",
       "      <td>Grace O'Keeffe</td>\n",
       "      <td>female</td>\n",
       "      <td>NaN</td>\n",
       "      <td>Conservative and Unionist Party</td>\n",
       "      <td>Aberdeen North</td>\n",
       "      <td>False</td>\n",
       "      <td>Grace_E_OKeeffe</td>\n",
       "      <td>858789131622723584</td>\n",
       "    </tr>\n",
       "    <tr>\n",
       "      <th>7</th>\n",
       "      <td>13</td>\n",
       "      <td>Orr Vinegold</td>\n",
       "      <td>male</td>\n",
       "      <td>1988</td>\n",
       "      <td>Labour Party</td>\n",
       "      <td>Aberdeen North</td>\n",
       "      <td>False</td>\n",
       "      <td>OrrVinegoldLab</td>\n",
       "      <td>857290145795641344</td>\n",
       "    </tr>\n",
       "    <tr>\n",
       "      <th>8</th>\n",
       "      <td>15</td>\n",
       "      <td>Callum O'Dwyer</td>\n",
       "      <td>Male</td>\n",
       "      <td>NaN</td>\n",
       "      <td>Labour Party</td>\n",
       "      <td>Aberdeen South</td>\n",
       "      <td>False</td>\n",
       "      <td>callumjodwyer</td>\n",
       "      <td>65415768</td>\n",
       "    </tr>\n",
       "    <tr>\n",
       "      <th>9</th>\n",
       "      <td>16</td>\n",
       "      <td>Ross Thomson</td>\n",
       "      <td>male</td>\n",
       "      <td>1987-09-21</td>\n",
       "      <td>Conservative and Unionist Party</td>\n",
       "      <td>Aberdeen South</td>\n",
       "      <td>True</td>\n",
       "      <td>RossThomson_MP</td>\n",
       "      <td>539849453</td>\n",
       "    </tr>\n",
       "  </tbody>\n",
       "</table>\n",
       "</div>"
      ],
      "text/plain": [
       "   Unnamed: 0             name  gender  birth_date  \\\n",
       "0           2  Stephen Kinnock    male  1970-01-01   \n",
       "1           3     Cen Phillips    male        1971   \n",
       "2           4      Sadie Vidal  female         NaN   \n",
       "3           5        Guto Bebb    male  1968-10-09   \n",
       "4           8       Emily Owen  Female        1995   \n",
       "5          10  Isobel Davidson  female         NaN   \n",
       "6          12   Grace O'Keeffe  female         NaN   \n",
       "7          13     Orr Vinegold    male        1988   \n",
       "8          15   Callum O'Dwyer    Male         NaN   \n",
       "9          16     Ross Thomson    male  1987-09-21   \n",
       "\n",
       "                        party_name      post_label elected twitter_username  \\\n",
       "0                     Labour Party        Aberavon    True         SKinnock   \n",
       "1                Liberal Democrats        Aberavon   False            CenLD   \n",
       "2  Conservative and Unionist Party        Aberavon   False       sadievidal   \n",
       "3  Conservative and Unionist Party       Aberconwy    True    GutoAberconwy   \n",
       "4                     Labour Party       Aberconwy   False  Emily4Aberconwy   \n",
       "5                Liberal Democrats  Aberdeen North   False   isobeldavidson   \n",
       "6  Conservative and Unionist Party  Aberdeen North   False  Grace_E_OKeeffe   \n",
       "7                     Labour Party  Aberdeen North   False   OrrVinegoldLab   \n",
       "8                     Labour Party  Aberdeen South   False    callumjodwyer   \n",
       "9  Conservative and Unionist Party  Aberdeen South    True   RossThomson_MP   \n",
       "\n",
       "      twitter_user_id  \n",
       "0           722347303  \n",
       "1          1872769464  \n",
       "2            19447175  \n",
       "3  752820350371717120  \n",
       "4            92363214  \n",
       "5          1553831654  \n",
       "6  858789131622723584  \n",
       "7  857290145795641344  \n",
       "8            65415768  \n",
       "9           539849453  "
      ]
     },
     "execution_count": 4,
     "metadata": {},
     "output_type": "execute_result"
    }
   ],
   "source": [
    "df_2015_SP.head(10)"
   ]
  },
  {
   "cell_type": "code",
   "execution_count": 5,
   "metadata": {
    "collapsed": true
   },
   "outputs": [],
   "source": [
    "list_id_2015_SP = df_2015_SP.twitter_user_id.tolist()"
   ]
  },
  {
   "cell_type": "code",
   "execution_count": 6,
   "metadata": {
    "collapsed": true
   },
   "outputs": [],
   "source": [
    "new_list_id = list_id_2015_SP"
   ]
  },
  {
   "cell_type": "code",
   "execution_count": 7,
   "metadata": {},
   "outputs": [
    {
     "data": {
      "text/plain": [
       "1455"
      ]
     },
     "execution_count": 7,
     "metadata": {},
     "output_type": "execute_result"
    }
   ],
   "source": [
    "len(new_list_id)"
   ]
  },
  {
   "cell_type": "code",
   "execution_count": 13,
   "metadata": {
    "collapsed": true
   },
   "outputs": [],
   "source": [
    "# list_id_2015_SP 500_1000  730\n",
    "count = 730\n",
    "# dataset_15sp = []"
   ]
  },
  {
   "cell_type": "code",
   "execution_count": null,
   "metadata": {
    "scrolled": true
   },
   "outputs": [
    {
     "name": "stdout",
     "output_type": "stream",
     "text": [
      "31756041 730\n",
      "31756041 with error\n",
      "408454349 731\n",
      "408454349 get 73439 friends\n",
      "408454349 get 73439 friends done\n",
      "351657777 732\n",
      "351657777 get 5304 friends\n",
      "351657777 get 5304 friends done\n",
      "18196651 733\n",
      "18196651 get 1943 friends\n",
      "18196651 get 1943 friends done\n",
      "545081356 734\n",
      "545081356 get 36532 friends\n",
      "545081356 get 36532 friends done\n",
      "793663214 735\n",
      "793663214 get 968 friends\n",
      "793663214 get 968 friends done\n",
      "20181974 736\n",
      "20181974 get 464 friends\n",
      "20181974 get 464 friends done\n",
      "859433240452583424 737\n",
      "859433240452583424 get 635 friends\n",
      "859433240452583424 get 635 friends done\n",
      "721026242 738\n",
      "721026242 get 1711 friends\n",
      "721026242 get 1711 friends done\n",
      "240030844 739\n",
      "240030844 get 663 friends\n",
      "240030844 get 663 friends done\n",
      "28543847 740\n",
      "28543847 get 19348 friends\n",
      "28543847 get 19348 friends done\n",
      "127970776 741\n",
      "127970776 get 2772 friends\n",
      "127970776 get 2772 friends done\n",
      "34374472 742\n",
      "34374472 get 69940 friends\n",
      "34374472 get 69940 friends done\n",
      "2935084827 743\n",
      "2935084827 get 781 friends\n",
      "2935084827 get 781 friends done\n",
      "2798113381 744\n",
      "2798113381 get 77 friends\n",
      "2798113381 get 77 friends done\n",
      "3099820919 745\n",
      "3099820919 get 696 friends\n",
      "3099820919 get 696 friends done\n",
      "105800463 746\n",
      "105800463 get 73416 friends\n",
      "105800463 get 73416 friends done\n",
      "181243457 747\n",
      "181243457 get 438 friends\n",
      "181243457 get 438 friends done\n",
      "93178604 748\n",
      "93178604 get 5071 friends\n",
      "93178604 get 5071 friends done\n",
      "207697553 749\n",
      "207697553 get 8086 friends\n",
      "207697553 get 8086 friends done\n",
      "198461357 750\n",
      "198461357 get 524 friends\n",
      "198461357 get 524 friends done\n",
      "389434876 751\n",
      "389434876 get 34410 friends\n",
      "389434876 get 34410 friends done\n",
      "989608254 752\n",
      "989608254 get 752 friends\n",
      "989608254 get 752 friends done\n",
      "855669794934337536 753\n",
      "855669794934337536 get 348 friends\n",
      "855669794934337536 get 348 friends done\n",
      "40451753 754\n",
      "40451753 get 4672 friends\n",
      "40451753 get 4672 friends done\n",
      "52124856 755\n",
      "52124856 get 10531 friends\n",
      "52124856 get 10531 friends done\n",
      "322588960 756\n",
      "322588960 get 1943 friends\n",
      "322588960 get 1943 friends done\n",
      "45884485 757\n",
      "45884485 get 1483 friends\n",
      "45884485 get 1483 friends done\n",
      "174396155 758\n",
      "174396155 get 8701 friends\n",
      "174396155 get 8701 friends done\n",
      "2979904613 759\n",
      "2979904613 get 2591 friends\n",
      "2979904613 get 2591 friends done\n",
      "3240259683 760\n",
      "3240259683 get 623 friends\n",
      "3240259683 get 623 friends done\n",
      "17315312 761\n",
      "17315312 get 548 friends\n",
      "17315312 get 548 friends done\n",
      "19058678 762\n",
      "19058678 get 25328 friends\n",
      "19058678 get 25328 friends done\n",
      "264829864 763\n",
      "264829864 get 1335 friends\n",
      "264829864 get 1335 friends done\n",
      "26796376 764\n",
      "26796376 get 9542 friends\n",
      "26796376 get 9542 friends done\n",
      "44955787 765\n",
      "44955787 get 37 friends\n",
      "44955787 get 37 friends done\n",
      "18904746 766\n",
      "18904746 get 1227 friends\n",
      "18904746 get 1227 friends done\n",
      "860188105982320640 767\n",
      "860188105982320640 with error\n",
      "860963957900808192 768\n",
      "860963957900808192 get 105 friends\n",
      "860963957900808192 get 105 friends done\n",
      "20255744 769\n",
      "20255744 get 3968 friends\n",
      "20255744 get 3968 friends done\n",
      "3571183275 770\n",
      "3571183275 get 313 friends\n",
      "3571183275 get 313 friends done\n",
      "233310243 771\n",
      "233310243 get 9296 friends\n",
      "233310243 get 9296 friends done\n",
      "2338660974 772\n",
      "2338660974 get 358 friends\n",
      "2338660974 get 358 friends done\n",
      "481120639 773\n",
      "481120639 get 10602 friends\n",
      "481120639 get 10602 friends done\n",
      "20919048 774\n",
      "20919048 get 733 friends\n",
      "20919048 get 733 friends done\n",
      "34940114 775\n",
      "34940114 get 46987 friends\n",
      "34940114 get 46987 friends done\n",
      "4075449898 776\n",
      "4075449898 get 19 friends\n",
      "4075449898 get 19 friends done\n",
      "1650144662 777\n",
      "1650144662 get 5330 friends\n",
      "1650144662 get 5330 friends done\n",
      "3079742145 778\n",
      "3079742145 get 1825 friends\n",
      "3079742145 get 1825 friends done\n",
      "2739719201 779\n",
      "2739719201 get 238 friends\n",
      "2739719201 get 238 friends done\n",
      "17963897 780\n",
      "17963897 get 3093 friends\n",
      "17963897 get 3093 friends done\n",
      "121109384 781\n",
      "121109384 get 286 friends\n",
      "121109384 get 286 friends done\n",
      "732889793298898944 782\n",
      "732889793298898944 get 533 friends\n",
      "732889793298898944 get 533 friends done\n",
      "254149472 783\n",
      "254149472 get 475 friends\n",
      "254149472 get 475 friends done\n",
      "606306570 784\n",
      "606306570 get 7960 friends\n",
      "606306570 get 7960 friends done\n",
      "747807250819981312 785\n"
     ]
    }
   ],
   "source": [
    "for _id in new_list_id[count:1000]:\n",
    "    print(_id, count)\n",
    "    Get_degree(userid = _id)\n",
    "    \n",
    "#     with open('neighbor_information49.csv', 'a') as myfile:\n",
    "#         myfile.write('{}\\n'.format(','.join(map(str,Get_degree(userid = _id)))))\n",
    "    count = count +1\n",
    "#         wr.writerow(Get_degree(userid = id))"
   ]
  },
  {
   "cell_type": "code",
   "execution_count": null,
   "metadata": {
    "collapsed": true
   },
   "outputs": [],
   "source": [
    "new_list_id[49]"
   ]
  },
  {
   "cell_type": "code",
   "execution_count": 9,
   "metadata": {
    "collapsed": true
   },
   "outputs": [],
   "source": [
    "def Get_degree(userid = 1603153040):\n",
    "    record = []\n",
    "    try:\n",
    "        friend_list = api.GetFollowers(user_id = userid)\n",
    "    except:\n",
    "        deadlist.append(userid)\n",
    "        print(str(userid) + ' with error')\n",
    "        return \n",
    "   \n",
    "    print('{} get {} friends'.format(userid, len(friend_list)))\n",
    "    friend_degree = []\n",
    "    follower_degree = []\n",
    "    for users in friend_list:\n",
    "\n",
    "        followers =  users._json.get('followers_count')\n",
    "        friends =  users._json.get('friends_count')\n",
    "        friend_degree.append(friends)\n",
    "        follower_degree.append(followers)\n",
    "    avg_fr = sum(friend_degree)/len(friend_list)\n",
    "    max_fr = max(friend_degree)\n",
    "    min_fr = min(friend_degree)\n",
    "    avg_fo = sum(follower_degree)/len(friend_list)\n",
    "    max_fo = max(follower_degree)\n",
    "    min_fo = min(follower_degree)\n",
    "    var_fr = np.var(friend_degree)\n",
    "    var_fo = np.var(follower_degree)\n",
    "    record = [userid, avg_fr, max_fr, min_fr, var_fr, avg_fo, max_fo, min_fo, var_fo]\n",
    "    print('{} get {} friends done'.format(userid, len(friend_list)))\n",
    "    with open('neighbor_information_17_500.csv', 'a') as myfile:\n",
    "        myfile.write('{}\\n'.format(','.join(map(str,record))))\n",
    "    return record"
   ]
  },
  {
   "cell_type": "code",
   "execution_count": 34,
   "metadata": {},
   "outputs": [
    {
     "name": "stdout",
     "output_type": "stream",
     "text": [
      "71084757 with error\n"
     ]
    },
    {
     "data": {
      "text/plain": [
       "[]"
      ]
     },
     "execution_count": 34,
     "metadata": {},
     "output_type": "execute_result"
    }
   ],
   "source": [
    "Get_degree(71084757)"
   ]
  },
  {
   "cell_type": "code",
   "execution_count": 10,
   "metadata": {
    "collapsed": true
   },
   "outputs": [],
   "source": [
    "deadlist = []"
   ]
  },
  {
   "cell_type": "code",
   "execution_count": 20,
   "metadata": {
    "collapsed": true
   },
   "outputs": [],
   "source": [
    "deadlist.append(new_list_id[49])"
   ]
  },
  {
   "cell_type": "code",
   "execution_count": null,
   "metadata": {
    "collapsed": true
   },
   "outputs": [],
   "source": [
    "deadlist"
   ]
  },
  {
   "cell_type": "code",
   "execution_count": 1,
   "metadata": {},
   "outputs": [
    {
     "ename": "NameError",
     "evalue": "name 'count' is not defined",
     "output_type": "error",
     "traceback": [
      "\u001b[0;31m---------------------------------------------------------------------------\u001b[0m",
      "\u001b[0;31mNameError\u001b[0m                                 Traceback (most recent call last)",
      "\u001b[0;32m<ipython-input-1-0295fd033b59>\u001b[0m in \u001b[0;36m<module>\u001b[0;34m()\u001b[0m\n\u001b[0;32m----> 1\u001b[0;31m \u001b[0mcount\u001b[0m\u001b[0;34m\u001b[0m\u001b[0m\n\u001b[0m",
      "\u001b[0;31mNameError\u001b[0m: name 'count' is not defined"
     ]
    }
   ],
   "source": [
    "count"
   ]
  },
  {
   "cell_type": "code",
   "execution_count": 13,
   "metadata": {},
   "outputs": [
    {
     "data": {
      "text/plain": [
       "14284260"
      ]
     },
     "execution_count": 13,
     "metadata": {},
     "output_type": "execute_result"
    }
   ],
   "source": [
    "new_list_id[1145]"
   ]
  },
  {
   "cell_type": "code",
   "execution_count": null,
   "metadata": {
    "collapsed": true
   },
   "outputs": [],
   "source": []
  }
 ],
 "metadata": {
  "kernelspec": {
   "display_name": "Python 3",
   "language": "python",
   "name": "python3"
  },
  "language_info": {
   "codemirror_mode": {
    "name": "ipython",
    "version": 3
   },
   "file_extension": ".py",
   "mimetype": "text/x-python",
   "name": "python",
   "nbconvert_exporter": "python",
   "pygments_lexer": "ipython3",
   "version": "3.6.0"
  }
 },
 "nbformat": 4,
 "nbformat_minor": 2
}
